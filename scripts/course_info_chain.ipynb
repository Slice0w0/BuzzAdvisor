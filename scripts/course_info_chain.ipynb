{
 "cells": [
  {
   "cell_type": "code",
   "execution_count": 1,
   "metadata": {},
   "outputs": [
    {
     "name": "stderr",
     "output_type": "stream",
     "text": [
      "100%|██████████| 67/67 [00:00<00:00, 318.08it/s]\n"
     ]
    }
   ],
   "source": [
    "from langchain.document_loaders import DirectoryLoader\n",
    "from langchain_community.document_loaders import JSONLoader\n",
    "\n",
    "DRIVE_FOLDER = \"../data/oms-official\"\n",
    "loader = DirectoryLoader(DRIVE_FOLDER, glob='**/*.json', show_progress=True, loader_cls=JSONLoader, loader_kwargs = {'jq_schema':'.', 'text_content': False})\n",
    "course_info = loader.load()"
   ]
  },
  {
   "cell_type": "code",
   "execution_count": 2,
   "metadata": {},
   "outputs": [],
   "source": [
    "import os\n",
    "from dotenv import load_dotenv\n",
    "\n",
    "# Load the .env file\n",
    "load_dotenv()\n",
    "OPEN_API_KEY = os.getenv(\"OPEN_API_KEY\")\n",
    "\n",
    "from langchain_community.vectorstores import Chroma\n",
    "from langchain_openai import OpenAIEmbeddings\n",
    "\n",
    "COURSE_INFO_CHROMA_PATH = \"../data/chroma_data_course_info/\"\n",
    "course_info_vector_db = Chroma.from_documents(\n",
    "    course_info, OpenAIEmbeddings(openai_api_key = OPEN_API_KEY), persist_directory=COURSE_INFO_CHROMA_PATH\n",
    ")"
   ]
  },
  {
   "cell_type": "code",
   "execution_count": 1,
   "metadata": {},
   "outputs": [
    {
     "name": "stderr",
     "output_type": "stream",
     "text": [
      "/var/folders/_k/bxqnpwnx3rbc52gzvkrlxl5m0000gn/T/ipykernel_99418/477351612.py:12: LangChainDeprecationWarning: The class `Chroma` was deprecated in LangChain 0.2.9 and will be removed in 1.0. An updated version of the class exists in the :class:`~langchain-chroma package and should be used instead. To use it run `pip install -U :class:`~langchain-chroma` and import as `from :class:`~langchain_chroma import Chroma``.\n",
      "  reviews_vector_db = Chroma(\n"
     ]
    },
    {
     "data": {
      "text/plain": [
       "[Document(metadata={'seq_num': 1, 'source': '/Users/hanqihua/Desktop/learning-assistant/data/oms-official/cs-6264-information-security-lab-system-and-network-defenses.json'}, page_content='{\"course-name\": \"cs-6264-information-security-lab-system-and-network-defenses\", \"foundational\": true, \"admin\": \"C\", \"Overview\": \"This course will help students develop both in-depth knowledge and hands-on skills in a number of important cybersecurity areas, including software security, malware and threat analysis, end-point security, network security, web security, mobile security, and machine learning based security analytics. The lecture materials of each topic area are drawn from latest research papers and\\\\u00a0prototypes, and comprehensive projects are assigned to help students master each area. The main topics include:\", \"Sample Syllabus\": \"Note: Sample syllabi are provided for informational purposes only. For the most up-to-date information, consult the official course documentation.\\\\u200b\", \"Suggested Background Knowledge\": \"You should have taken an introductory course on, or be otherwise familiar with, the basic concepts of information security (there is very little overlap between this course and CS 6035). Ideally, you should also have taken a network security course (there is only a small amount of overlap between this course and CS 6262). Prior programming experience with C or Java (or similar language) is required.\", \"Technical Requirements and Software\": \"\\\\n- Browser and connection speed: An up-to-date version of Chrome or Firefox is strongly recommended. 2+ Mbps is recommended.\\\\n- Operating system:PC: Windows XP or higher with latest updates installedMac: OS X 10.6 or higher with latest updates installedLinux: any recent distribution will work so long as you can install Python and OpenCV\\\\n- PC: Windows XP or higher with latest updates installed\\\\n- Mac: OS X 10.6 or higher with latest updates installed\\\\n- Linux: any recent distribution will work so long as you can install Python and OpenCV\\\\n- Virtual Machine: You will be provided a virtual machine (VM) useful for performing class assignments and projects. For the projects, the supplied resources are identical to those used to test your submissions. Details for downloading and installing the VM can be found on Canvas.\\\\u200b\", \"Academic Integrity\": \"All Georgia Tech students are expected to uphold theGeorgia Tech Academic Honor Code. This course may impose additional academic integrity stipulations; consult the official course documentation for more information.\"}'),\n",
       " Document(metadata={'seq_num': 1, 'source': '/Users/hanqihua/Desktop/learning-assistant/data/oms-official/cse-6220-intro-high-performance-computing.json'}, page_content='{\"course-name\": \"cse-6220-intro-high-performance-computing\", \"foundational\": true, \"admin\": \"CS\", \"Overview\": \"More information is available on theCSE 6220 course website.\", \"Course Goals\": \"This course is a graduate-level introduction to parallel computing. Its goal is to give you the foundations to develop, analyze, and implement parallel and locality-efficient algorithms and data structures.\", \"Preview\": \"\", \"Sample Syllabi\": \"Note: Sample syllabi are provided for informational purposes only. For the most up-to-date information, consult the official course documentation.\", \"Course Content\": \"To access the public version of this course\\'s content, clickhere, then log into your Ed Lessons account. If you have not already created an Ed Lessons account, enter your name and email address, then click the activation link sent to your email, then revisit that link.\", \"Suggested Background Knowledge\": \"It is also recommended that you:\\\\n- Have taken CS 6515: Intro to Grad Algorithms or an undergraduate algorithms class\\\\n- Have programming experience in a \\\\u201clow- level\\\\u201d \\\\u201chigh-level\\\\u201d language like C or C++ (for the programming assignments)\\\\n- Have experience using command line interfaces in *nix environments (e.g., Unix, Linux\", \"Technical Requirements and Software\": \"\\\\n- Browser and connection speed: An up-to-date version of Chrome or Firefox is strongly recommended. We also support Internet Explorer 9 and the desktop versions of Internet Explorer 10 and above (not the metro versions). 2+ Mbps is recommended; the minimum requirement is 0.768 Mbps download speed.\\\\n- Operating system:PC: Windows XP or higher with latest updates installedMac: OS X 10.6 or higher with latest updates installedLinux: any recent distribution that has the supported browsers installed\\\\n- PC: Windows XP or higher with latest updates installed\\\\n- Mac: OS X 10.6 or higher with latest updates installed\\\\n- Linux: any recent distribution that has the supported browsers installed\\\\n- We may also elect to provide virtual machines with a standardized environment, though most of the assignments can be completed by directly logging into the HPC resource we will provide via secure shell (ssh).\", \"Academic Integrity\": \"All Georgia Tech students are expected to uphold theGeorgia Tech Academic Honor Code. This course may impose additional academic integrity stipulations; consult the official course documentation for more information.\"}'),\n",
       " Document(metadata={'seq_num': 1, 'source': '/Users/hanqihua/Desktop/learning-assistant/data/oms-official/cs-6300-software-development-process.json'}, page_content='{\"course-name\": \"cs-6300-software-development-process\", \"foundational\": true, \"admin\": \"CS\", \"Overview\": \"This course provides an in-depth study of the process of developing software systems, including: the use of software processes in actual product development; techniques used to ensure quality of the software products; and maintenance tasks performed as software evolves. By the end of the course, students will understand the role of software processes in the development of software and will have experienced several types of processes, from rigid to agile. Students will also become familiar with a variety of modern technologies and development techniques and understand their connection to software processes.\", \"Course overview\": \"\", \"Sample Lesson\": \"\", \"Sample Syllabus\": \"Note: Sample syllabi are provided for informational purposes only. For the most up-to-date information, consult the official course documentation.\", \"Course Content\": \"To access the public version of this course\\'s content, clickhere, then log into your Ed Lessons account. If you have not already created an Ed Lessons account, enter your name and email address, then click the activation link sent to your email, then revisit that link.\", \"Suggested Background Knowledge\": \"If you answer \\\\\"no\\\\\" to any of the following questions, it may be beneficial to refresh your knowledge of this material prior to taking CS 6300:\", \"Technical Requirements and Software\": \"\\\\n- Browser and connection speed: An up-to-date version of Chrome or Firefox is strongly recommended. We also support Internet Explorer 9 and the desktop versions of Internet Explorer 10 and above (not the metro versions). 2+ Mbps is recommended; the minimum requirement is 0.768 Mbps download speed.\\\\n- Operating system:PC: Windows XP or higher with latest updates installedMac: OS X 10.6 or higher with latest updates installedLinux: any recent distribution that has the supported browsers installed\\\\n- PC: Windows XP or higher with latest updates installed\\\\n- Mac: OS X 10.6 or higher with latest updates installed\\\\n- Linux: any recent distribution that has the supported browsers installed\\\\n- Ability to install additional (free) software, such as the Eclipse Integrated Development Environment, on the machine used for the course.\\\\n- Google Hangouts will be used for office hours.\", \"Academic Integrity\": \"All Georgia Tech students are expected to uphold theGeorgia Tech Academic Honor Code. This course may impose additional academic integrity stipulations; consult the official course documentation for more information.\"}'),\n",
       " Document(metadata={'seq_num': 1, 'source': '/Users/hanqihua/Desktop/learning-assistant/data/oms-official/cse-6242-data-and-visual-analytics.json'}, page_content='{\"course-name\": \"cse-6242-data-and-visual-analytics\", \"foundational\": true, \"admin\": \"A\", \"Overview\": \"More information is available on theCSE 6242 course website.\", \"Course Goals\": \"In this course, you will:\", \"Preview\": \"\", \"Sample Syllabi\": \"Note: Sample syllabi are provided for informational purposes only. For the most up-to-date information, consult the official course documentation.\", \"Course Videos\": \"You can view the lecture videos for this coursehere.\", \"Suggested Background Knowledge\": \"It is recommended that you:\\\\n- Have taken CSE 6040 and did very well in it (for Georgia Tech Analytics students)\\\\n- Have taken CS 1301 (for Georgia Tech Analytics students)\\\\n- Are proficient in at least one high-level programming language (e.g., Python, C++, Java) and are efficient with debugging principles and practices; if you are not, you should instead first take CSE 6040 (for OMS Analytics students) and if needed, CS 1301 and CS 1371.\\\\n- Are confident in your ability to learn multiple tools, skills, and programming languages on the fly.\\\\n- Have basic knowledge of linear algebra, probability, and statistics\", \"Technical Requirements and Software\": \"\\\\n- 8 GB RAM (16 GB recommended)\\\\n- 512 GB disk (SSD recommended)\\\\n- Dual-core Core i5 (8th generation or better recommended)\", \"Academic Integrity\": \"All Georgia Tech students are expected to uphold theGeorgia Tech Academic Honor Code. This course may impose additional academic integrity stipulations; consult the official course documentation for more information.\"}'),\n",
       " Document(metadata={'seq_num': 1, 'source': '/Users/hanqihua/Desktop/learning-assistant/data/oms-official/cs-6263-intro-cyber-physical-systems-security.json'}, page_content='{\"course-name\": \"cs-6263-intro-cyber-physical-systems-security\", \"foundational\": true, \"admin\": \"CS\", \"Overview\": \"This course (formerly CS 8803 O07 Special Topics) provides an introduction to security issues relating to various cyber-physical systems including industrial control systems and those considered critical infrastructure systems. Topics include:\", \"Sample Syllabi\": \"Note: Sample syllabi are provided for informational purposes only. For the most up-to-date information, consult the official course documentation.\", \"Course Content\": \"To access the public version of this course\\'s content, clickhere, then log into your Ed Lessons account. If you have not already created an Ed Lessons account, enter your name and email address, then click the activation link sent to your email, then revisit that link.\", \"Academic Integrity\": \"All Georgia Tech students are expected to uphold theGeorgia Tech Academic Honor Code. This course may impose additional academic integrity stipulations; consult the official course documentation for more information.\"}')]"
      ]
     },
     "execution_count": 1,
     "metadata": {},
     "output_type": "execute_result"
    }
   ],
   "source": [
    "import os\n",
    "from dotenv import load_dotenv\n",
    "\n",
    "# Load the .env file\n",
    "load_dotenv()\n",
    "OPEN_API_KEY = os.getenv(\"OPEN_API_KEY\")\n",
    "from langchain_openai import OpenAIEmbeddings\n",
    "from langchain_community.vectorstores import Chroma\n",
    "\n",
    "COURSE_INFO_CHROMA_PATH = \"../data/chroma_data_course_info/\"\n",
    "\n",
    "reviews_vector_db = Chroma(\n",
    "    persist_directory=COURSE_INFO_CHROMA_PATH,\n",
    "    embedding_function=OpenAIEmbeddings(openai_api_key = OPEN_API_KEY)\n",
    ")\n",
    "question = \"\"\"What do I need to know before taking CS 6515\"\"\"\n",
    "relevant_docs = reviews_vector_db.similarity_search(question, k=5)\n",
    "relevant_docs"
   ]
  },
  {
   "cell_type": "markdown",
   "metadata": {},
   "source": [
    "## Finished code"
   ]
  },
  {
   "cell_type": "code",
   "execution_count": 20,
   "metadata": {},
   "outputs": [
    {
     "data": {
      "text/plain": [
       "'The course CS6250 is \"Computer Networks.\" It is a foundational course administered by the College of Computing. In this course, students will work on hands-on projects to learn about routing, Software-Defined Networking (SDN), BGP hijacking, and Internet measurements. There is also an additional project available for students who want to explore more, which engages with tools for Internet-wide measurements. As part of the projects, students will study how large-scale events associated with unrest are reflected as connectivity disruptions for networks in specific parts of the world.\\n\\nThe suggested background knowledge for CS6250 includes being able to confidently answer \"yes\" to certain questions, which are not specified in the provided context. Additionally, the technical requirements and software needed for the course include an up-to-date version of Chrome or Firefox for browsing, with a recommended connection speed of 2+ Mbps. The course supports Windows XP or higher, Mac OS X 10.6 or higher, and any recent Linux distribution that has the supported browsers installed.\\n\\nAll Georgia Tech students are expected to uphold the Georgia Tech Academic Honor Code in CS6250, and the course may impose additional academic integrity stipulations. For the most up-to-date information, students should consult the official course documentation.'"
      ]
     },
     "execution_count": 20,
     "metadata": {},
     "output_type": "execute_result"
    }
   ],
   "source": [
    "import dotenv\n",
    "from langchain_openai import ChatOpenAI\n",
    "from langchain.prompts import (\n",
    "    PromptTemplate,\n",
    "    SystemMessagePromptTemplate,\n",
    "    HumanMessagePromptTemplate,\n",
    "    ChatPromptTemplate,\n",
    ")\n",
    "import os\n",
    "\n",
    "dotenv.load_dotenv()\n",
    "OPEN_API_KEY = os.getenv(\"OPEN_API_KEY\")\n",
    "\n",
    "review_system_template_str = \"\"\"Your job is to use courses information\n",
    "provided to answer questions about questions about course prerequisite, \n",
    "suggested backgrounds, technical requirements, Contents, Goals, etc. \n",
    "Use the following context to answer questions.\n",
    "Be as detailed as possible, but don't make up any information\n",
    "that's not from the context. If you don't know an answer, say\n",
    "you don't know.\n",
    "\n",
    "{context}\n",
    "\"\"\"\n",
    "\n",
    "course_info_system_prompt = SystemMessagePromptTemplate(\n",
    "    prompt=PromptTemplate(\n",
    "        input_variables=[\"context\"], template=review_system_template_str\n",
    "    )\n",
    ")\n",
    "\n",
    "course_info_human_prompt = HumanMessagePromptTemplate(\n",
    "    prompt=PromptTemplate(\n",
    "        input_variables=[\"question\"], template=\"{question}\"\n",
    "    )\n",
    ")\n",
    "\n",
    "messages = [course_info_system_prompt, course_info_human_prompt]\n",
    "course_info_prompt_template = ChatPromptTemplate(\n",
    "    input_variables=[\"context\", \"question\"],\n",
    "    messages=messages,\n",
    ")\n",
    "chat_model = ChatOpenAI(model=\"gpt-3.5-turbo-0125\", temperature=0, api_key = OPEN_API_KEY)\n",
    "\n",
    "\n",
    "from langchain_core.output_parsers import StrOutputParser\n",
    "from langchain.schema.runnable import RunnablePassthrough, RunnableMap\n",
    "from langchain_community.vectorstores import Chroma\n",
    "from langchain_openai import OpenAIEmbeddings\n",
    "COURSE_INFO_CHROMA_PATH = \"../data/chroma_data_course_info/\"\n",
    "\n",
    "# Initialize the vector database and retriever\n",
    "course_info_vector_db = Chroma(\n",
    "    persist_directory=COURSE_INFO_CHROMA_PATH,\n",
    "    embedding_function=OpenAIEmbeddings(openai_api_key=OPEN_API_KEY)\n",
    ")\n",
    "\n",
    "course_info_retriever = course_info_vector_db.as_retriever(k=5)\n",
    "\n",
    "# Define a function to process each document's content and metadata\n",
    "def format_with_metadata(documents):\n",
    "    return [\n",
    "        f\"Review: {doc.page_content}\\nCourse: {doc.metadata['source'].split('/')[-1].rstrip('.json')}\"\n",
    "        for doc in documents[\"context\"]\n",
    "    ]\n",
    "\n",
    "# Create a chain that incorporates the formatted documents with metadata\n",
    "course_info_chain = (\n",
    "    {\"context\": course_info_retriever, \"question\": RunnablePassthrough()} \n",
    "    | RunnableMap({\"context\": format_with_metadata, \"question\": lambda x: x })  # Format context with metadata\n",
    "    | course_info_prompt_template\n",
    "    | chat_model\n",
    "    | StrOutputParser()\n",
    ")\n",
    "question_to_ask = \"\"\"What do I need to know before taking CS 6340\"\"\"\n",
    "course_info_chain.invoke(question_to_ask)"
   ]
  },
  {
   "cell_type": "code",
   "execution_count": null,
   "metadata": {},
   "outputs": [],
   "source": []
  }
 ],
 "metadata": {
  "kernelspec": {
   "display_name": ".venv",
   "language": "python",
   "name": "python3"
  },
  "language_info": {
   "codemirror_mode": {
    "name": "ipython",
    "version": 3
   },
   "file_extension": ".py",
   "mimetype": "text/x-python",
   "name": "python",
   "nbconvert_exporter": "python",
   "pygments_lexer": "ipython3",
   "version": "3.10.9"
  }
 },
 "nbformat": 4,
 "nbformat_minor": 2
}
