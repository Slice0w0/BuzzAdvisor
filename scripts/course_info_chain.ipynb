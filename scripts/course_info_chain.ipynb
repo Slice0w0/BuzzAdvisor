{
 "cells": [
  {
   "cell_type": "code",
   "execution_count": 1,
   "metadata": {},
   "outputs": [
    {
     "name": "stderr",
     "output_type": "stream",
     "text": [
      "100%|██████████| 67/67 [00:00<00:00, 318.08it/s]\n"
     ]
    }
   ],
   "source": [
    "from langchain.document_loaders import DirectoryLoader\n",
    "from langchain_community.document_loaders import JSONLoader\n",
    "\n",
    "DRIVE_FOLDER = \"../data/oms-official\"\n",
    "loader = DirectoryLoader(DRIVE_FOLDER, glob='**/*.json', show_progress=True, loader_cls=JSONLoader, loader_kwargs = {'jq_schema':'.', 'text_content': False})\n",
    "course_info = loader.load()"
   ]
  },
  {
   "cell_type": "code",
   "execution_count": 2,
   "metadata": {},
   "outputs": [],
   "source": [
    "import os\n",
    "from dotenv import load_dotenv\n",
    "\n",
    "# Load the .env file\n",
    "load_dotenv()\n",
    "OPEN_API_KEY = os.getenv(\"OPEN_API_KEY\")\n",
    "\n",
    "from langchain_community.vectorstores import Chroma\n",
    "from langchain_openai import OpenAIEmbeddings\n",
    "\n",
    "COURSE_INFO_CHROMA_PATH = \"../data/chroma_data_course_info/\"\n",
    "course_info_vector_db = Chroma.from_documents(\n",
    "    course_info, OpenAIEmbeddings(openai_api_key = OPEN_API_KEY), persist_directory=REVIEWS_CHROMA_PATH\n",
    ")"
   ]
  },
  {
   "cell_type": "markdown",
   "metadata": {},
   "source": [
    "## Finished code"
   ]
  },
  {
   "cell_type": "code",
   "execution_count": 1,
   "metadata": {},
   "outputs": [
    {
     "name": "stderr",
     "output_type": "stream",
     "text": [
      "/var/folders/_k/bxqnpwnx3rbc52gzvkrlxl5m0000gn/T/ipykernel_17097/69421996.py:52: LangChainDeprecationWarning: The class `Chroma` was deprecated in LangChain 0.2.9 and will be removed in 1.0. An updated version of the class exists in the :class:`~langchain-chroma package and should be used instead. To use it run `pip install -U :class:`~langchain-chroma` and import as `from :class:`~langchain_chroma import Chroma``.\n",
      "  course_info_vector_db = Chroma(\n"
     ]
    },
    {
     "data": {
      "text/plain": [
       "'The course prerequisite for cs-6515, which is \"Intro to Graduate Algorithms,\" includes taking CS 8001 OLP, a one credit-hour seminar designed to fulfill prerequisites to succeed in CS 6515. More information about this prerequisite seminar is available on the CS 8001 Seminars page.'"
      ]
     },
     "execution_count": 1,
     "metadata": {},
     "output_type": "execute_result"
    }
   ],
   "source": [
    "import dotenv\n",
    "from langchain_openai import ChatOpenAI\n",
    "from langchain.prompts import (\n",
    "    PromptTemplate,\n",
    "    SystemMessagePromptTemplate,\n",
    "    HumanMessagePromptTemplate,\n",
    "    ChatPromptTemplate,\n",
    ")\n",
    "import os\n",
    "\n",
    "dotenv.load_dotenv()\n",
    "OPEN_API_KEY = os.getenv(\"OPEN_API_KEY\")\n",
    "\n",
    "review_system_template_str = \"\"\"Your job is to use courses information\n",
    "provided to answer questions about questions about course prerequisite, \n",
    "suggested backgrounds, technical requirements, Contents, Goals, etc. \n",
    "Use the following context to answer questions.\n",
    "Be as detailed as possible, but don't make up any information\n",
    "that's not from the context. If you don't know an answer, say\n",
    "you don't know.\n",
    "\n",
    "{context}\n",
    "\"\"\"\n",
    "\n",
    "course_info_system_prompt = SystemMessagePromptTemplate(\n",
    "    prompt=PromptTemplate(\n",
    "        input_variables=[\"context\"], template=review_system_template_str\n",
    "    )\n",
    ")\n",
    "\n",
    "course_info_human_prompt = HumanMessagePromptTemplate(\n",
    "    prompt=PromptTemplate(\n",
    "        input_variables=[\"question\"], template=\"{question}\"\n",
    "    )\n",
    ")\n",
    "\n",
    "messages = [course_info_system_prompt, course_info_human_prompt]\n",
    "course_info_prompt_template = ChatPromptTemplate(\n",
    "    input_variables=[\"context\", \"question\"],\n",
    "    messages=messages,\n",
    ")\n",
    "chat_model = ChatOpenAI(model=\"gpt-3.5-turbo-0125\", temperature=0, api_key = OPEN_API_KEY)\n",
    "\n",
    "\n",
    "from langchain_core.output_parsers import StrOutputParser\n",
    "from langchain.schema.runnable import RunnablePassthrough, RunnableMap\n",
    "from langchain_community.vectorstores import Chroma\n",
    "from langchain_openai import OpenAIEmbeddings\n",
    "COURSE_INFO_CHROMA_PATH = \"../data/chroma_data_prereq_background_chain/\"\n",
    "\n",
    "# Initialize the vector database and retriever\n",
    "course_info_vector_db = Chroma(\n",
    "    persist_directory=COURSE_INFO_CHROMA_PATH,\n",
    "    embedding_function=OpenAIEmbeddings(openai_api_key=OPEN_API_KEY)\n",
    ")\n",
    "\n",
    "course_info_retriever = course_info_vector_db.as_retriever(k=1)\n",
    "\n",
    "# Define a function to process each document's content and metadata\n",
    "def format_with_metadata(documents):\n",
    "    return [\n",
    "        f\"Review: {doc.page_content}\\nCourse: {doc.metadata['source'].split('/')[-1].rstrip('.json')}\"\n",
    "        for doc in documents[\"context\"]\n",
    "    ]\n",
    "\n",
    "# Create a chain that incorporates the formatted documents with metadata\n",
    "course_info_chain = (\n",
    "    {\"context\": course_info_retriever, \"question\": RunnablePassthrough()}\n",
    "    | RunnableMap({\"context\": format_with_metadata, \"question\": lambda x: x})  # Format context with metadata\n",
    "    | course_info_prompt_template\n",
    "    | chat_model\n",
    "    | StrOutputParser()\n",
    ")\n",
    "question_to_ask = \"\"\"What's the course prerequisite of cs-6515\"\"\"\n",
    "course_info_chain.invoke(question_to_ask)"
   ]
  }
 ],
 "metadata": {
  "kernelspec": {
   "display_name": ".venv",
   "language": "python",
   "name": "python3"
  },
  "language_info": {
   "codemirror_mode": {
    "name": "ipython",
    "version": 3
   },
   "file_extension": ".py",
   "mimetype": "text/x-python",
   "name": "python",
   "nbconvert_exporter": "python",
   "pygments_lexer": "ipython3",
   "version": "3.10.9"
  }
 },
 "nbformat": 4,
 "nbformat_minor": 2
}
